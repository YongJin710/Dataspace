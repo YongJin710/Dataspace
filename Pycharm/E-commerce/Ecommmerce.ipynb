{
 "cells": [
  {
   "metadata": {
    "ExecuteTime": {
     "end_time": "2025-07-02T15:25:22.661805Z",
     "start_time": "2025-07-02T15:25:21.608697Z"
    }
   },
   "cell_type": "code",
   "source": [
    "import pandas as pd\n",
    "import numpy as np\n",
    "import matplotlib.pyplot as plt\n",
    "import seaborn as sns\n",
    "\n",
    "import warnings\n",
    "# Ignore all warnings\n",
    "warnings.filterwarnings(\"ignore\")\n",
    "\n",
    "from scipy.stats import ttest_ind\n",
    "from statsmodels.stats.proportion import proportions_ztest\n",
    "#pd.options.display.float_format ='{:,.2f}'.format"
   ],
   "id": "3a3dad962769180d",
   "outputs": [],
   "execution_count": 7
  },
  {
   "metadata": {
    "ExecuteTime": {
     "end_time": "2025-07-02T15:22:33.725723Z",
     "start_time": "2025-07-02T15:22:33.719773Z"
    }
   },
   "cell_type": "code",
   "source": "",
   "id": "bc5b6291887006e3",
   "outputs": [],
   "execution_count": null
  },
  {
   "metadata": {
    "ExecuteTime": {
     "end_time": "2025-07-02T15:22:33.965835Z",
     "start_time": "2025-07-02T15:22:33.963239Z"
    }
   },
   "cell_type": "code",
   "source": "",
   "id": "50e3cd0997e19f2c",
   "outputs": [],
   "execution_count": null
  },
  {
   "metadata": {
    "ExecuteTime": {
     "end_time": "2025-07-02T15:22:34.140706Z",
     "start_time": "2025-07-02T15:22:34.138013Z"
    }
   },
   "cell_type": "code",
   "source": "",
   "id": "4d52c3e59b5e17e0",
   "outputs": [],
   "execution_count": null
  },
  {
   "metadata": {
    "ExecuteTime": {
     "end_time": "2025-07-02T15:22:34.345269Z",
     "start_time": "2025-07-02T15:22:34.342906Z"
    }
   },
   "cell_type": "code",
   "source": "",
   "id": "25977b7b0d7c7794",
   "outputs": [],
   "execution_count": null
  },
  {
   "metadata": {},
   "cell_type": "code",
   "outputs": [],
   "execution_count": null,
   "source": "",
   "id": "bc4882cd485d9713"
  }
 ],
 "metadata": {
  "kernelspec": {
   "display_name": "Python 3",
   "language": "python",
   "name": "python3"
  },
  "language_info": {
   "codemirror_mode": {
    "name": "ipython",
    "version": 2
   },
   "file_extension": ".py",
   "mimetype": "text/x-python",
   "name": "python",
   "nbconvert_exporter": "python",
   "pygments_lexer": "ipython2",
   "version": "2.7.6"
  }
 },
 "nbformat": 4,
 "nbformat_minor": 5
}
